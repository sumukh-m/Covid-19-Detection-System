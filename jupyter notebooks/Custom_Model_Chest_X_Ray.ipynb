{
  "nbformat": 4,
  "nbformat_minor": 0,
  "metadata": {
    "colab": {
      "name": "Custom Model Chest X-Ray",
      "provenance": []
    },
    "kernelspec": {
      "name": "python3",
      "display_name": "Python 3"
    },
    "language_info": {
      "name": "python"
    },
    "accelerator": "GPU",
    "gpuClass": "standard"
  },
  "cells": [
    {
      "cell_type": "code",
      "execution_count": 1,
      "metadata": {
        "id": "dzmZ6Br_r3yl"
      },
      "outputs": [],
      "source": [
        "import pandas as pd\n",
        "import numpy as np\n",
        "from scipy.signal import savgol_filter\n",
        "from scipy.ndimage import gaussian_filter\n",
        "import time\n",
        "import matplotlib.pyplot as plt\n",
        "from pathlib import Path\n",
        "from tqdm import tqdm\n",
        "from sklearn.decomposition import PCA\n",
        "import sklearn\n",
        "from glob import glob\n",
        "import cv2\n",
        "import torch\n",
        "from torch.utils.data import Dataset, DataLoader\n",
        "%matplotlib inline"
      ]
    },
    {
      "cell_type": "code",
      "source": [
        "IMAGE_SIZE = [224, 224] # feel free to change depending on dataset\n",
        "\n",
        "# training config:\n",
        "epochs = 500\n",
        "batch_size = 32\n",
        "\n",
        "#define paths\n",
        "covid_path = 'data/chest/Chest_COVID'\n",
        "noncovid_path = 'data/chest/Chest_NonCOVID'\n",
        "\n",
        "# Use glob to grab images from path .jpg or jpeg\n",
        "covid_files = glob(covid_path + '/*')\n",
        "noncovid_files = glob(noncovid_path + '/*')"
      ],
      "metadata": {
        "id": "v7wOyk3jsBd6"
      },
      "execution_count": 2,
      "outputs": []
    },
    {
      "cell_type": "code",
      "source": [
        "# Preparing Labels\n",
        "covid_labels = []\n",
        "noncovid_labels = []\n",
        "\n",
        "covid_images=[]\n",
        "noncovid_images=[]\n",
        "\n",
        "import cv2 \n",
        "\n",
        "for i in range(len(covid_files)):\n",
        "  image = cv2.imread(covid_files[i])\n",
        "  image = cv2.cvtColor(image, cv2.COLOR_BGR2RGB)\n",
        "  image = cv2.resize(image,(224,224))\n",
        "  image = np.transpose(image, (2, 1, 0))\n",
        "  covid_images.append(image)\n",
        "  covid_labels.append('Chest_COVID')\n",
        "\n",
        "for i in range(len(noncovid_files)):\n",
        "  image = cv2.imread(noncovid_files[i])\n",
        "  image = cv2.cvtColor(image, cv2.COLOR_BGR2RGB)\n",
        "  image = cv2.resize(image,(224,224))\n",
        "  image = np.transpose(image, (2, 1, 0))\n",
        "  noncovid_images.append(image)\n",
        "  noncovid_labels.append('Chest_NonCOVID')"
      ],
      "metadata": {
        "id": "z37r0JhEsPDG"
      },
      "execution_count": 3,
      "outputs": []
    },
    {
      "cell_type": "code",
      "source": [
        "# normalize to interval of [0,1]\n",
        "covid_images = np.array(covid_images) / 255\n",
        "noncovid_images = np.array(noncovid_images) / 255"
      ],
      "metadata": {
        "id": "RGHh-vCWsQ5n"
      },
      "execution_count": 4,
      "outputs": []
    },
    {
      "cell_type": "code",
      "source": [
        "from sklearn.model_selection import train_test_split\n",
        "from sklearn.preprocessing import LabelBinarizer\n",
        "from tensorflow.keras.utils import to_categorical\n",
        "\n",
        "# split into training and testing\n",
        "covid_x_train, covid_x_test, covid_y_train, covid_y_test = train_test_split(\n",
        "    covid_images, covid_labels, test_size=0.2)\n",
        "noncovid_x_train, noncovid_x_test, noncovid_y_train, noncovid_y_test = train_test_split(\n",
        "    noncovid_images, noncovid_labels, test_size=0.2)\n",
        "\n",
        "\n",
        "X_train = np.concatenate((noncovid_x_train, covid_x_train), axis=0)\n",
        "X_test = np.concatenate((noncovid_x_test, covid_x_test), axis=0)\n",
        "y_train = np.concatenate((noncovid_y_train, covid_y_train), axis=0)\n",
        "y_test = np.concatenate((noncovid_y_test, covid_y_test), axis=0)\n",
        "\n",
        "# make labels into categories - either 0 or 1\n",
        "y_train = LabelBinarizer().fit_transform(y_train)\n",
        "y_train = to_categorical(y_train)\n",
        "\n",
        "y_test = LabelBinarizer().fit_transform(y_test)\n",
        "y_test = to_categorical(y_test)"
      ],
      "metadata": {
        "id": "kcMn7KB8sRf2"
      },
      "execution_count": 5,
      "outputs": []
    },
    {
      "cell_type": "code",
      "source": [
        "import torch.nn as nn\n",
        "import torch.nn.functional as F\n",
        "from torch.utils.data import Dataset, DataLoader\n",
        "from torchvision import transforms, utils\n",
        "import torch.optim as optim\n",
        "\n",
        "\n",
        "class Net(nn.Module):\n",
        "    def __init__(self):\n",
        "        super().__init__()\n",
        "        self.conv1 = nn.Conv2d(3, 8, 3, padding=1)\n",
        "        self.conv2 = nn.Conv2d(8, 16, 3, padding=1)\n",
        "        self.conv3 = nn.Conv2d(16, 32, 3, padding=1)\n",
        "        self.pool = nn.MaxPool2d(2, 2)\n",
        "        self.fc1 = nn.Linear(25088, 512)\n",
        "        self.fc2 = nn.Linear(512, 2)\n",
        "\n",
        "    def forward(self, x):\n",
        "        x = self.pool(F.relu(self.conv1(x)))\n",
        "        x = self.pool(F.relu(self.conv2(x)))\n",
        "        x = self.pool(F.relu(self.conv3(x)))\n",
        "        x = torch.flatten(x, 1) # flatten all dimensions except batch\n",
        "        x = F.relu(self.fc1(x))\n",
        "        x = F.relu(self.fc2(x))\n",
        "        return x\n",
        "\n",
        "device = torch.device(\"cuda\")\n",
        "net = Net()\n",
        "net.to(device)\n",
        "criterion = nn.CrossEntropyLoss()\n",
        "optimizer = optim.Adam(net.parameters(), lr=0.0001)"
      ],
      "metadata": {
        "id": "5zJbv9fpsTE4"
      },
      "execution_count": 6,
      "outputs": []
    },
    {
      "cell_type": "code",
      "source": [
        "Xt_train=torch.from_numpy(X_train)\n",
        "yt_train = torch.from_numpy(y_train)\n",
        "\n",
        "Xt_test = torch.from_numpy(X_test)\n",
        "Xt_test= Xt_test.float()\n",
        "yt_test = torch.from_numpy(y_test)\n",
        "yt_test= yt_test.float()\n",
        "Xt_test, yt_test = Xt_test.to(device), yt_test.to(device)"
      ],
      "metadata": {
        "id": "rmvlLIDIsXZ5"
      },
      "execution_count": 7,
      "outputs": []
    },
    {
      "cell_type": "code",
      "source": [
        "step=1\n",
        "train_acc_arr=[]\n",
        "test_acc_arr=[]\n",
        "loss_epoch_arr=[]\n",
        "for epoch in range(256):\n",
        "    Xt_train= Xt_train.float()\n",
        "    Xt_train = Xt_train.to(device)\n",
        "    yt_train = yt_train.to(device)\n",
        "    optimizer.zero_grad()\n",
        "    pred = net(Xt_train)\n",
        "    loss = criterion(pred, yt_train)\n",
        "    loss.backward()\n",
        "    optimizer.step()\n",
        "    train_acc = ((torch.sum(pred == yt_train)) / len(Xt_train)) * 100\n",
        "    train_acc_arr.append(train_acc)\n",
        "    test_pred = net(Xt_test)\n",
        "    test_acc = ((torch.sum(test_pred == yt_test)) / len(Xt_test)) * 100\n",
        "    test_acc_arr.append(test_acc)\n",
        "    loss_epoch_arr.append(loss.item())\n",
        "    print(f'Step {step} ==> loss {loss:.4f} ==> train-accuracy {train_acc:.2f} ==> test-accuracy {test_acc:.2f}')\n",
        "    step=step+1"
      ],
      "metadata": {
        "colab": {
          "base_uri": "https://localhost:8080/"
        },
        "id": "99aX6dNtsbM1",
        "outputId": "d4172c4c-ba41-41f4-a343-092219fcad23"
      },
      "execution_count": 8,
      "outputs": [
        {
          "output_type": "stream",
          "name": "stdout",
          "text": [
            "Step 1 ==> loss 0.6917 ==> train-accuracy 53.72 ==> test-accuracy 53.72\n",
            "Step 2 ==> loss 0.6893 ==> train-accuracy 53.72 ==> test-accuracy 53.72\n",
            "Step 3 ==> loss 0.6860 ==> train-accuracy 53.72 ==> test-accuracy 53.72\n",
            "Step 4 ==> loss 0.6830 ==> train-accuracy 53.72 ==> test-accuracy 53.72\n",
            "Step 5 ==> loss 0.6797 ==> train-accuracy 54.65 ==> test-accuracy 53.72\n",
            "Step 6 ==> loss 0.6759 ==> train-accuracy 54.26 ==> test-accuracy 53.72\n",
            "Step 7 ==> loss 0.6724 ==> train-accuracy 54.26 ==> test-accuracy 54.26\n",
            "Step 8 ==> loss 0.6687 ==> train-accuracy 55.05 ==> test-accuracy 58.51\n",
            "Step 9 ==> loss 0.6648 ==> train-accuracy 56.91 ==> test-accuracy 60.11\n",
            "Step 10 ==> loss 0.6611 ==> train-accuracy 57.98 ==> test-accuracy 60.64\n",
            "Step 11 ==> loss 0.6572 ==> train-accuracy 58.38 ==> test-accuracy 60.64\n",
            "Step 12 ==> loss 0.6534 ==> train-accuracy 57.85 ==> test-accuracy 62.23\n",
            "Step 13 ==> loss 0.6495 ==> train-accuracy 58.78 ==> test-accuracy 62.23\n",
            "Step 14 ==> loss 0.6456 ==> train-accuracy 61.17 ==> test-accuracy 62.77\n",
            "Step 15 ==> loss 0.6417 ==> train-accuracy 61.57 ==> test-accuracy 62.77\n",
            "Step 16 ==> loss 0.6377 ==> train-accuracy 61.70 ==> test-accuracy 63.30\n",
            "Step 17 ==> loss 0.6338 ==> train-accuracy 62.23 ==> test-accuracy 63.83\n",
            "Step 18 ==> loss 0.6299 ==> train-accuracy 63.16 ==> test-accuracy 64.36\n",
            "Step 19 ==> loss 0.6259 ==> train-accuracy 63.83 ==> test-accuracy 65.43\n",
            "Step 20 ==> loss 0.6218 ==> train-accuracy 64.63 ==> test-accuracy 66.49\n",
            "Step 21 ==> loss 0.6178 ==> train-accuracy 66.22 ==> test-accuracy 65.96\n",
            "Step 22 ==> loss 0.6138 ==> train-accuracy 65.96 ==> test-accuracy 67.55\n",
            "Step 23 ==> loss 0.6099 ==> train-accuracy 66.76 ==> test-accuracy 67.55\n",
            "Step 24 ==> loss 0.6060 ==> train-accuracy 67.82 ==> test-accuracy 68.62\n",
            "Step 25 ==> loss 0.6022 ==> train-accuracy 68.35 ==> test-accuracy 69.15\n",
            "Step 26 ==> loss 0.5983 ==> train-accuracy 69.28 ==> test-accuracy 69.68\n",
            "Step 27 ==> loss 0.5946 ==> train-accuracy 70.61 ==> test-accuracy 69.68\n",
            "Step 28 ==> loss 0.5909 ==> train-accuracy 70.35 ==> test-accuracy 69.68\n",
            "Step 29 ==> loss 0.5873 ==> train-accuracy 71.68 ==> test-accuracy 69.68\n",
            "Step 30 ==> loss 0.5839 ==> train-accuracy 72.74 ==> test-accuracy 69.68\n",
            "Step 31 ==> loss 0.5804 ==> train-accuracy 73.14 ==> test-accuracy 70.21\n",
            "Step 32 ==> loss 0.5771 ==> train-accuracy 74.60 ==> test-accuracy 70.21\n",
            "Step 33 ==> loss 0.5739 ==> train-accuracy 74.34 ==> test-accuracy 70.21\n",
            "Step 34 ==> loss 0.5706 ==> train-accuracy 74.73 ==> test-accuracy 72.34\n",
            "Step 35 ==> loss 0.5674 ==> train-accuracy 76.33 ==> test-accuracy 75.53\n",
            "Step 36 ==> loss 0.5643 ==> train-accuracy 77.39 ==> test-accuracy 71.28\n",
            "Step 37 ==> loss 0.5614 ==> train-accuracy 76.06 ==> test-accuracy 77.13\n",
            "Step 38 ==> loss 0.5583 ==> train-accuracy 78.86 ==> test-accuracy 77.13\n",
            "Step 39 ==> loss 0.5555 ==> train-accuracy 78.72 ==> test-accuracy 76.06\n",
            "Step 40 ==> loss 0.5528 ==> train-accuracy 78.59 ==> test-accuracy 77.13\n",
            "Step 41 ==> loss 0.5502 ==> train-accuracy 80.45 ==> test-accuracy 78.19\n",
            "Step 42 ==> loss 0.5476 ==> train-accuracy 80.85 ==> test-accuracy 77.66\n",
            "Step 43 ==> loss 0.5451 ==> train-accuracy 80.59 ==> test-accuracy 79.79\n",
            "Step 44 ==> loss 0.5427 ==> train-accuracy 81.65 ==> test-accuracy 79.79\n",
            "Step 45 ==> loss 0.5404 ==> train-accuracy 81.65 ==> test-accuracy 80.32\n",
            "Step 46 ==> loss 0.5380 ==> train-accuracy 81.91 ==> test-accuracy 81.38\n",
            "Step 47 ==> loss 0.5358 ==> train-accuracy 82.18 ==> test-accuracy 82.45\n",
            "Step 48 ==> loss 0.5335 ==> train-accuracy 83.11 ==> test-accuracy 81.38\n",
            "Step 49 ==> loss 0.5312 ==> train-accuracy 82.31 ==> test-accuracy 82.98\n",
            "Step 50 ==> loss 0.5290 ==> train-accuracy 83.11 ==> test-accuracy 84.04\n",
            "Step 51 ==> loss 0.5269 ==> train-accuracy 83.91 ==> test-accuracy 81.91\n",
            "Step 52 ==> loss 0.5249 ==> train-accuracy 83.78 ==> test-accuracy 83.51\n",
            "Step 53 ==> loss 0.5229 ==> train-accuracy 83.64 ==> test-accuracy 84.04\n",
            "Step 54 ==> loss 0.5211 ==> train-accuracy 85.24 ==> test-accuracy 83.51\n",
            "Step 55 ==> loss 0.5192 ==> train-accuracy 83.64 ==> test-accuracy 84.04\n",
            "Step 56 ==> loss 0.5173 ==> train-accuracy 86.04 ==> test-accuracy 83.51\n",
            "Step 57 ==> loss 0.5155 ==> train-accuracy 83.78 ==> test-accuracy 84.04\n",
            "Step 58 ==> loss 0.5140 ==> train-accuracy 86.84 ==> test-accuracy 83.51\n",
            "Step 59 ==> loss 0.5120 ==> train-accuracy 85.11 ==> test-accuracy 83.51\n",
            "Step 60 ==> loss 0.5104 ==> train-accuracy 85.24 ==> test-accuracy 84.04\n",
            "Step 61 ==> loss 0.5090 ==> train-accuracy 87.63 ==> test-accuracy 83.51\n",
            "Step 62 ==> loss 0.5072 ==> train-accuracy 85.77 ==> test-accuracy 83.51\n",
            "Step 63 ==> loss 0.5056 ==> train-accuracy 86.04 ==> test-accuracy 84.04\n",
            "Step 64 ==> loss 0.5044 ==> train-accuracy 88.83 ==> test-accuracy 83.51\n",
            "Step 65 ==> loss 0.5034 ==> train-accuracy 85.11 ==> test-accuracy 83.51\n",
            "Step 66 ==> loss 0.5011 ==> train-accuracy 87.90 ==> test-accuracy 85.11\n",
            "Step 67 ==> loss 0.5001 ==> train-accuracy 88.96 ==> test-accuracy 83.51\n",
            "Step 68 ==> loss 0.4993 ==> train-accuracy 85.51 ==> test-accuracy 84.57\n",
            "Step 69 ==> loss 0.4971 ==> train-accuracy 87.90 ==> test-accuracy 85.64\n",
            "Step 70 ==> loss 0.4966 ==> train-accuracy 90.03 ==> test-accuracy 83.51\n",
            "Step 71 ==> loss 0.4956 ==> train-accuracy 85.90 ==> test-accuracy 84.57\n",
            "Step 72 ==> loss 0.4934 ==> train-accuracy 87.77 ==> test-accuracy 85.64\n",
            "Step 73 ==> loss 0.4927 ==> train-accuracy 89.89 ==> test-accuracy 84.57\n",
            "Step 74 ==> loss 0.4910 ==> train-accuracy 87.90 ==> test-accuracy 84.04\n",
            "Step 75 ==> loss 0.4905 ==> train-accuracy 86.70 ==> test-accuracy 85.11\n",
            "Step 76 ==> loss 0.4894 ==> train-accuracy 90.29 ==> test-accuracy 85.11\n",
            "Step 77 ==> loss 0.4875 ==> train-accuracy 89.23 ==> test-accuracy 84.04\n",
            "Step 78 ==> loss 0.4871 ==> train-accuracy 87.23 ==> test-accuracy 85.11\n",
            "Step 79 ==> loss 0.4852 ==> train-accuracy 88.83 ==> test-accuracy 86.70\n",
            "Step 80 ==> loss 0.4849 ==> train-accuracy 90.43 ==> test-accuracy 84.57\n",
            "Step 81 ==> loss 0.4832 ==> train-accuracy 88.03 ==> test-accuracy 84.04\n",
            "Step 82 ==> loss 0.4822 ==> train-accuracy 87.90 ==> test-accuracy 86.70\n",
            "Step 83 ==> loss 0.4816 ==> train-accuracy 90.56 ==> test-accuracy 86.17\n",
            "Step 84 ==> loss 0.4799 ==> train-accuracy 89.36 ==> test-accuracy 84.57\n",
            "Step 85 ==> loss 0.4796 ==> train-accuracy 87.50 ==> test-accuracy 87.23\n",
            "Step 86 ==> loss 0.4780 ==> train-accuracy 90.29 ==> test-accuracy 87.23\n",
            "Step 87 ==> loss 0.4771 ==> train-accuracy 90.69 ==> test-accuracy 84.57\n",
            "Step 88 ==> loss 0.4767 ==> train-accuracy 87.63 ==> test-accuracy 87.77\n",
            "Step 89 ==> loss 0.4751 ==> train-accuracy 90.69 ==> test-accuracy 87.77\n",
            "Step 90 ==> loss 0.4742 ==> train-accuracy 90.96 ==> test-accuracy 85.11\n",
            "Step 91 ==> loss 0.4737 ==> train-accuracy 88.16 ==> test-accuracy 87.23\n",
            "Step 92 ==> loss 0.4721 ==> train-accuracy 90.29 ==> test-accuracy 87.77\n",
            "Step 93 ==> loss 0.4715 ==> train-accuracy 91.09 ==> test-accuracy 85.64\n",
            "Step 94 ==> loss 0.4703 ==> train-accuracy 89.36 ==> test-accuracy 86.17\n",
            "Step 95 ==> loss 0.4693 ==> train-accuracy 89.23 ==> test-accuracy 89.89\n",
            "Step 96 ==> loss 0.4689 ==> train-accuracy 91.76 ==> test-accuracy 86.70\n",
            "Step 97 ==> loss 0.4672 ==> train-accuracy 90.03 ==> test-accuracy 86.17\n",
            "Step 98 ==> loss 0.4667 ==> train-accuracy 88.96 ==> test-accuracy 89.89\n",
            "Step 99 ==> loss 0.4661 ==> train-accuracy 91.89 ==> test-accuracy 87.23\n",
            "Step 100 ==> loss 0.4645 ==> train-accuracy 90.56 ==> test-accuracy 86.17\n",
            "Step 101 ==> loss 0.4645 ==> train-accuracy 88.83 ==> test-accuracy 90.43\n",
            "Step 102 ==> loss 0.4639 ==> train-accuracy 92.69 ==> test-accuracy 87.23\n",
            "Step 103 ==> loss 0.4621 ==> train-accuracy 90.16 ==> test-accuracy 86.70\n",
            "Step 104 ==> loss 0.4617 ==> train-accuracy 89.49 ==> test-accuracy 90.43\n",
            "Step 105 ==> loss 0.4613 ==> train-accuracy 92.95 ==> test-accuracy 87.23\n",
            "Step 106 ==> loss 0.4601 ==> train-accuracy 89.63 ==> test-accuracy 88.83\n",
            "Step 107 ==> loss 0.4587 ==> train-accuracy 90.82 ==> test-accuracy 90.43\n",
            "Step 108 ==> loss 0.4587 ==> train-accuracy 93.09 ==> test-accuracy 86.70\n",
            "Step 109 ==> loss 0.4596 ==> train-accuracy 88.16 ==> test-accuracy 89.89\n",
            "Step 110 ==> loss 0.4570 ==> train-accuracy 92.95 ==> test-accuracy 89.89\n",
            "Step 111 ==> loss 0.4556 ==> train-accuracy 91.49 ==> test-accuracy 87.77\n",
            "Step 112 ==> loss 0.4555 ==> train-accuracy 89.76 ==> test-accuracy 89.89\n",
            "Step 113 ==> loss 0.4546 ==> train-accuracy 92.82 ==> test-accuracy 89.36\n",
            "Step 114 ==> loss 0.4533 ==> train-accuracy 91.09 ==> test-accuracy 89.36\n",
            "Step 115 ==> loss 0.4527 ==> train-accuracy 90.69 ==> test-accuracy 89.89\n",
            "Step 116 ==> loss 0.4522 ==> train-accuracy 92.55 ==> test-accuracy 89.36\n",
            "Step 117 ==> loss 0.4511 ==> train-accuracy 91.22 ==> test-accuracy 89.36\n",
            "Step 118 ==> loss 0.4505 ==> train-accuracy 90.69 ==> test-accuracy 90.43\n",
            "Step 119 ==> loss 0.4508 ==> train-accuracy 93.22 ==> test-accuracy 89.36\n",
            "Step 120 ==> loss 0.4494 ==> train-accuracy 90.43 ==> test-accuracy 89.89\n",
            "Step 121 ==> loss 0.4482 ==> train-accuracy 92.02 ==> test-accuracy 89.89\n",
            "Step 122 ==> loss 0.4477 ==> train-accuracy 92.55 ==> test-accuracy 89.36\n",
            "Step 123 ==> loss 0.4470 ==> train-accuracy 90.96 ==> test-accuracy 89.89\n",
            "Step 124 ==> loss 0.4461 ==> train-accuracy 92.55 ==> test-accuracy 89.89\n",
            "Step 125 ==> loss 0.4453 ==> train-accuracy 92.15 ==> test-accuracy 89.89\n",
            "Step 126 ==> loss 0.4447 ==> train-accuracy 91.49 ==> test-accuracy 89.89\n",
            "Step 127 ==> loss 0.4440 ==> train-accuracy 93.09 ==> test-accuracy 89.89\n",
            "Step 128 ==> loss 0.4432 ==> train-accuracy 91.76 ==> test-accuracy 89.89\n",
            "Step 129 ==> loss 0.4424 ==> train-accuracy 92.42 ==> test-accuracy 90.43\n",
            "Step 130 ==> loss 0.4417 ==> train-accuracy 92.82 ==> test-accuracy 89.89\n",
            "Step 131 ==> loss 0.4410 ==> train-accuracy 92.02 ==> test-accuracy 90.43\n",
            "Step 132 ==> loss 0.4402 ==> train-accuracy 92.82 ==> test-accuracy 90.43\n",
            "Step 133 ==> loss 0.4394 ==> train-accuracy 92.69 ==> test-accuracy 89.89\n",
            "Step 134 ==> loss 0.4386 ==> train-accuracy 92.29 ==> test-accuracy 90.43\n",
            "Step 135 ==> loss 0.4379 ==> train-accuracy 93.22 ==> test-accuracy 90.43\n",
            "Step 136 ==> loss 0.4371 ==> train-accuracy 92.42 ==> test-accuracy 90.43\n",
            "Step 137 ==> loss 0.4363 ==> train-accuracy 92.69 ==> test-accuracy 90.43\n",
            "Step 138 ==> loss 0.4355 ==> train-accuracy 93.22 ==> test-accuracy 90.43\n",
            "Step 139 ==> loss 0.4347 ==> train-accuracy 92.42 ==> test-accuracy 90.43\n",
            "Step 140 ==> loss 0.4336 ==> train-accuracy 92.82 ==> test-accuracy 90.43\n",
            "Step 141 ==> loss 0.4328 ==> train-accuracy 93.35 ==> test-accuracy 90.43\n",
            "Step 142 ==> loss 0.4320 ==> train-accuracy 91.89 ==> test-accuracy 90.96\n",
            "Step 143 ==> loss 0.4311 ==> train-accuracy 93.75 ==> test-accuracy 89.89\n",
            "Step 144 ==> loss 0.4305 ==> train-accuracy 91.76 ==> test-accuracy 91.49\n",
            "Step 145 ==> loss 0.4298 ==> train-accuracy 94.02 ==> test-accuracy 89.36\n",
            "Step 146 ==> loss 0.4292 ==> train-accuracy 91.76 ==> test-accuracy 91.49\n",
            "Step 147 ==> loss 0.4281 ==> train-accuracy 93.75 ==> test-accuracy 90.43\n",
            "Step 148 ==> loss 0.4273 ==> train-accuracy 92.29 ==> test-accuracy 91.49\n",
            "Step 149 ==> loss 0.4267 ==> train-accuracy 94.15 ==> test-accuracy 89.36\n",
            "Step 150 ==> loss 0.4269 ==> train-accuracy 91.36 ==> test-accuracy 92.02\n",
            "Step 151 ==> loss 0.4280 ==> train-accuracy 95.61 ==> test-accuracy 88.83\n",
            "Step 152 ==> loss 0.4268 ==> train-accuracy 90.69 ==> test-accuracy 92.02\n",
            "Step 153 ==> loss 0.4249 ==> train-accuracy 95.08 ==> test-accuracy 92.02\n",
            "Step 154 ==> loss 0.4233 ==> train-accuracy 93.48 ==> test-accuracy 89.89\n",
            "Step 155 ==> loss 0.4237 ==> train-accuracy 91.62 ==> test-accuracy 92.02\n",
            "Step 156 ==> loss 0.4251 ==> train-accuracy 96.01 ==> test-accuracy 89.89\n",
            "Step 157 ==> loss 0.4229 ==> train-accuracy 91.62 ==> test-accuracy 92.02\n",
            "Step 158 ==> loss 0.4210 ==> train-accuracy 93.75 ==> test-accuracy 92.02\n",
            "Step 159 ==> loss 0.4213 ==> train-accuracy 95.08 ==> test-accuracy 91.49\n",
            "Step 160 ==> loss 0.4209 ==> train-accuracy 92.02 ==> test-accuracy 92.02\n",
            "Step 161 ==> loss 0.4197 ==> train-accuracy 94.55 ==> test-accuracy 92.02\n",
            "Step 162 ==> loss 0.4191 ==> train-accuracy 94.55 ==> test-accuracy 91.49\n",
            "Step 163 ==> loss 0.4191 ==> train-accuracy 92.29 ==> test-accuracy 92.02\n",
            "Step 164 ==> loss 0.4184 ==> train-accuracy 95.35 ==> test-accuracy 91.49\n",
            "Step 165 ==> loss 0.4173 ==> train-accuracy 93.62 ==> test-accuracy 91.49\n",
            "Step 166 ==> loss 0.4169 ==> train-accuracy 93.09 ==> test-accuracy 92.02\n",
            "Step 167 ==> loss 0.4169 ==> train-accuracy 95.35 ==> test-accuracy 91.49\n",
            "Step 168 ==> loss 0.4157 ==> train-accuracy 93.62 ==> test-accuracy 91.49\n",
            "Step 169 ==> loss 0.4153 ==> train-accuracy 92.95 ==> test-accuracy 92.02\n",
            "Step 170 ==> loss 0.4160 ==> train-accuracy 95.48 ==> test-accuracy 91.49\n",
            "Step 171 ==> loss 0.4140 ==> train-accuracy 93.75 ==> test-accuracy 91.49\n",
            "Step 172 ==> loss 0.4139 ==> train-accuracy 92.55 ==> test-accuracy 92.02\n",
            "Step 173 ==> loss 0.4154 ==> train-accuracy 96.28 ==> test-accuracy 90.96\n",
            "Step 174 ==> loss 0.4131 ==> train-accuracy 92.15 ==> test-accuracy 92.02\n",
            "Step 175 ==> loss 0.4119 ==> train-accuracy 95.21 ==> test-accuracy 92.02\n",
            "Step 176 ==> loss 0.4113 ==> train-accuracy 94.68 ==> test-accuracy 91.49\n",
            "Step 177 ==> loss 0.4110 ==> train-accuracy 93.62 ==> test-accuracy 92.02\n",
            "Step 178 ==> loss 0.4107 ==> train-accuracy 95.48 ==> test-accuracy 91.49\n",
            "Step 179 ==> loss 0.4099 ==> train-accuracy 93.88 ==> test-accuracy 92.02\n",
            "Step 180 ==> loss 0.4093 ==> train-accuracy 94.95 ==> test-accuracy 92.02\n",
            "Step 181 ==> loss 0.4087 ==> train-accuracy 94.41 ==> test-accuracy 92.02\n",
            "Step 182 ==> loss 0.4082 ==> train-accuracy 95.08 ==> test-accuracy 91.49\n",
            "Step 183 ==> loss 0.4078 ==> train-accuracy 93.75 ==> test-accuracy 92.02\n",
            "Step 184 ==> loss 0.4080 ==> train-accuracy 96.14 ==> test-accuracy 91.49\n",
            "Step 185 ==> loss 0.4081 ==> train-accuracy 92.15 ==> test-accuracy 92.55\n",
            "Step 186 ==> loss 0.4092 ==> train-accuracy 96.41 ==> test-accuracy 91.49\n",
            "Step 187 ==> loss 0.4057 ==> train-accuracy 95.08 ==> test-accuracy 90.43\n",
            "Step 188 ==> loss 0.4100 ==> train-accuracy 90.82 ==> test-accuracy 94.68\n",
            "Step 189 ==> loss 0.4134 ==> train-accuracy 97.74 ==> test-accuracy 92.02\n",
            "Step 190 ==> loss 0.4048 ==> train-accuracy 96.01 ==> test-accuracy 87.23\n",
            "Step 191 ==> loss 0.4193 ==> train-accuracy 87.90 ==> test-accuracy 94.68\n",
            "Step 192 ==> loss 0.4118 ==> train-accuracy 97.87 ==> test-accuracy 94.68\n",
            "Step 193 ==> loss 0.4111 ==> train-accuracy 97.87 ==> test-accuracy 88.83\n",
            "Step 194 ==> loss 0.4108 ==> train-accuracy 90.03 ==> test-accuracy 90.96\n",
            "Step 195 ==> loss 0.4050 ==> train-accuracy 92.29 ==> test-accuracy 94.68\n",
            "Step 196 ==> loss 0.4103 ==> train-accuracy 97.87 ==> test-accuracy 94.15\n",
            "Step 197 ==> loss 0.4054 ==> train-accuracy 96.54 ==> test-accuracy 89.89\n",
            "Step 198 ==> loss 0.4063 ==> train-accuracy 91.09 ==> test-accuracy 91.49\n",
            "Step 199 ==> loss 0.4023 ==> train-accuracy 93.75 ==> test-accuracy 94.15\n",
            "Step 200 ==> loss 0.4045 ==> train-accuracy 96.68 ==> test-accuracy 93.09\n",
            "Step 201 ==> loss 0.4032 ==> train-accuracy 96.41 ==> test-accuracy 91.49\n",
            "Step 202 ==> loss 0.4017 ==> train-accuracy 93.35 ==> test-accuracy 90.96\n",
            "Step 203 ==> loss 0.4016 ==> train-accuracy 93.22 ==> test-accuracy 93.09\n",
            "Step 204 ==> loss 0.4015 ==> train-accuracy 96.28 ==> test-accuracy 93.09\n",
            "Step 205 ==> loss 0.4018 ==> train-accuracy 96.41 ==> test-accuracy 91.49\n",
            "Step 206 ==> loss 0.3995 ==> train-accuracy 94.95 ==> test-accuracy 90.43\n",
            "Step 207 ==> loss 0.4014 ==> train-accuracy 92.55 ==> test-accuracy 92.02\n",
            "Step 208 ==> loss 0.3996 ==> train-accuracy 96.28 ==> test-accuracy 94.15\n",
            "Step 209 ==> loss 0.4007 ==> train-accuracy 97.07 ==> test-accuracy 91.49\n",
            "Step 210 ==> loss 0.3982 ==> train-accuracy 95.08 ==> test-accuracy 89.89\n",
            "Step 211 ==> loss 0.4008 ==> train-accuracy 91.62 ==> test-accuracy 93.09\n",
            "Step 212 ==> loss 0.3991 ==> train-accuracy 96.54 ==> test-accuracy 94.15\n",
            "Step 213 ==> loss 0.4010 ==> train-accuracy 97.34 ==> test-accuracy 91.49\n",
            "Step 214 ==> loss 0.3970 ==> train-accuracy 95.48 ==> test-accuracy 89.36\n",
            "Step 215 ==> loss 0.4028 ==> train-accuracy 90.56 ==> test-accuracy 93.62\n",
            "Step 216 ==> loss 0.3979 ==> train-accuracy 96.68 ==> test-accuracy 94.68\n",
            "Step 217 ==> loss 0.4024 ==> train-accuracy 98.01 ==> test-accuracy 91.49\n",
            "Step 218 ==> loss 0.3958 ==> train-accuracy 95.88 ==> test-accuracy 88.30\n",
            "Step 219 ==> loss 0.4043 ==> train-accuracy 90.16 ==> test-accuracy 93.09\n",
            "Step 220 ==> loss 0.3956 ==> train-accuracy 96.14 ==> test-accuracy 94.68\n",
            "Step 221 ==> loss 0.4020 ==> train-accuracy 98.01 ==> test-accuracy 93.09\n",
            "Step 222 ==> loss 0.3952 ==> train-accuracy 96.41 ==> test-accuracy 89.36\n",
            "Step 223 ==> loss 0.3993 ==> train-accuracy 91.22 ==> test-accuracy 92.02\n",
            "Step 224 ==> loss 0.3941 ==> train-accuracy 95.74 ==> test-accuracy 93.62\n",
            "Step 225 ==> loss 0.3963 ==> train-accuracy 97.34 ==> test-accuracy 93.62\n",
            "Step 226 ==> loss 0.3942 ==> train-accuracy 96.68 ==> test-accuracy 90.96\n",
            "Step 227 ==> loss 0.3940 ==> train-accuracy 94.41 ==> test-accuracy 90.96\n",
            "Step 228 ==> loss 0.3943 ==> train-accuracy 93.75 ==> test-accuracy 93.09\n",
            "Step 229 ==> loss 0.3928 ==> train-accuracy 96.28 ==> test-accuracy 93.62\n",
            "Step 230 ==> loss 0.3947 ==> train-accuracy 97.47 ==> test-accuracy 93.09\n",
            "Step 231 ==> loss 0.3919 ==> train-accuracy 96.01 ==> test-accuracy 90.43\n",
            "Step 232 ==> loss 0.3943 ==> train-accuracy 92.42 ==> test-accuracy 93.09\n",
            "Step 233 ==> loss 0.3914 ==> train-accuracy 96.14 ==> test-accuracy 93.62\n",
            "Step 234 ==> loss 0.3938 ==> train-accuracy 97.87 ==> test-accuracy 93.09\n",
            "Step 235 ==> loss 0.3907 ==> train-accuracy 96.01 ==> test-accuracy 90.43\n",
            "Step 236 ==> loss 0.3927 ==> train-accuracy 92.95 ==> test-accuracy 93.09\n",
            "Step 237 ==> loss 0.3901 ==> train-accuracy 96.01 ==> test-accuracy 93.62\n",
            "Step 238 ==> loss 0.3913 ==> train-accuracy 97.21 ==> test-accuracy 93.62\n",
            "Step 239 ==> loss 0.3897 ==> train-accuracy 96.28 ==> test-accuracy 92.02\n",
            "Step 240 ==> loss 0.3896 ==> train-accuracy 94.95 ==> test-accuracy 92.02\n",
            "Step 241 ==> loss 0.3893 ==> train-accuracy 94.68 ==> test-accuracy 93.62\n",
            "Step 242 ==> loss 0.3888 ==> train-accuracy 96.54 ==> test-accuracy 93.62\n",
            "Step 243 ==> loss 0.3891 ==> train-accuracy 96.94 ==> test-accuracy 92.55\n",
            "Step 244 ==> loss 0.3880 ==> train-accuracy 96.14 ==> test-accuracy 90.96\n",
            "Step 245 ==> loss 0.3891 ==> train-accuracy 93.48 ==> test-accuracy 93.62\n",
            "Step 246 ==> loss 0.3876 ==> train-accuracy 96.54 ==> test-accuracy 93.62\n",
            "Step 247 ==> loss 0.3886 ==> train-accuracy 97.74 ==> test-accuracy 92.55\n",
            "Step 248 ==> loss 0.3867 ==> train-accuracy 96.14 ==> test-accuracy 90.43\n",
            "Step 249 ==> loss 0.3899 ==> train-accuracy 92.42 ==> test-accuracy 93.62\n",
            "Step 250 ==> loss 0.3874 ==> train-accuracy 97.61 ==> test-accuracy 93.62\n",
            "Step 251 ==> loss 0.3878 ==> train-accuracy 97.74 ==> test-accuracy 92.55\n",
            "Step 252 ==> loss 0.3857 ==> train-accuracy 95.48 ==> test-accuracy 90.43\n",
            "Step 253 ==> loss 0.3878 ==> train-accuracy 92.82 ==> test-accuracy 93.62\n",
            "Step 254 ==> loss 0.3865 ==> train-accuracy 97.61 ==> test-accuracy 93.62\n",
            "Step 255 ==> loss 0.3873 ==> train-accuracy 98.01 ==> test-accuracy 92.55\n",
            "Step 256 ==> loss 0.3847 ==> train-accuracy 95.61 ==> test-accuracy 90.43\n"
          ]
        }
      ]
    },
    {
      "cell_type": "code",
      "source": [
        "train_accuracy = torch.tensor(train_acc_arr, device = 'cpu')\n",
        "test_accuracy = torch.tensor(test_acc_arr, device = 'cpu')\n",
        "\n",
        "epoch_rate = [epoch for epoch in range(128)]\n",
        "\n",
        "import matplotlib.pyplot as plt\n",
        "plt.plot(epoch_rate, train_accuracy)\n",
        "plt.plot(epoch_rate, test_accuracy)\n",
        "plt.show()"
      ],
      "metadata": {
        "id": "cDvLj8jeskKP"
      },
      "execution_count": null,
      "outputs": []
    },
    {
      "cell_type": "code",
      "source": [
        "plt.plot(loss_epoch_arr)\n",
        "plt.show()"
      ],
      "metadata": {
        "colab": {
          "base_uri": "https://localhost:8080/",
          "height": 265
        },
        "id": "rVUO761essiQ",
        "outputId": "a99a970f-6c6a-4439-b630-9cae21629822"
      },
      "execution_count": 11,
      "outputs": [
        {
          "output_type": "display_data",
          "data": {
            "text/plain": [
              "<Figure size 432x288 with 1 Axes>"
            ],
            "image/png": "[encoded data removed]"
          },
          "metadata": {
            "needs_background": "light"
          }
        }
      ]
    },
    {
      "cell_type": "code",
      "source": [
        " with torch.no_grad():\n",
        "    # Generate prediction\n",
        "    prediction = net(Xt_test)\n",
        "\n",
        "predicted_class = prediction[26].argmax()\n",
        "index = 26\n",
        "image = X_test[index]\n",
        "true_target = y_test[index]\n",
        "image = np.transpose(image, (2, 1, 0))\n",
        "\n",
        "plt.imshow(image)\n",
        "plt.title(f'Prediction: {predicted_class} - Actual target: {true_target}')\n",
        "plt.show()"
      ],
      "metadata": {
        "colab": {
          "base_uri": "https://localhost:8080/",
          "height": 281
        },
        "id": "QN6gbfnNsun2",
        "outputId": "d7738212-272f-427a-c53c-a132e7c14e3f"
      },
      "execution_count": 12,
      "outputs": [
        {
          "output_type": "display_data",
          "data": {
            "text/plain": [
              "<Figure size 432x288 with 1 Axes>"
            ],
            "image/png": "[encoded data removed]"
          },
          "metadata": {
            "needs_background": "light"
          }
        }
      ]
    },
    {
      "cell_type": "code",
      "source": [
        "y_pred = net(Xt_train)\n",
        "train_acc = torch.sum(y_pred == yt_train)\n",
        "final_train_acc = train_acc/len(Xt_train)\n",
        "print(final_train_acc.to(\"cpu\").numpy() * 100)"
      ],
      "metadata": {
        "colab": {
          "base_uri": "https://localhost:8080/"
        },
        "id": "QOJp2o7Qs7V-",
        "outputId": "9360808c-6fe5-4bf6-b301-a6869a7948bc"
      },
      "execution_count": 13,
      "outputs": [
        {
          "output_type": "stream",
          "name": "stdout",
          "text": [
            "92.42020845413208\n"
          ]
        }
      ]
    },
    {
      "cell_type": "code",
      "source": [
        "y_pred = net(Xt_test)\n",
        "train_acc = torch.sum(y_pred == yt_test)\n",
        "final_train_acc = train_acc/len(Xt_test)\n",
        "print(final_train_acc.to(\"cpu\").numpy()*100)"
      ],
      "metadata": {
        "colab": {
          "base_uri": "https://localhost:8080/"
        },
        "id": "iQgr1W-atA4K",
        "outputId": "69b082b9-7247-4d39-e88a-7b1c921b45df"
      },
      "execution_count": 14,
      "outputs": [
        {
          "output_type": "stream",
          "name": "stdout",
          "text": [
            "90.42552709579468\n"
          ]
        }
      ]
    }
  ]
}